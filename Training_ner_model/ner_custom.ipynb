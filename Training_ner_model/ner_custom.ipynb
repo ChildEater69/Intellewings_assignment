{
 "cells": [
  {
   "cell_type": "code",
   "execution_count": 5,
   "metadata": {},
   "outputs": [],
   "source": [
    "import pandas as pd\n",
    "import spacy\n",
    "from spacy.tokens import DocBin\n",
    "from spacy.training import Example\n",
    "\n",
    "# Load CSV data\n",
    "df = pd.read_csv(r'C:\\Users\\Avdh1215\\Desktop\\Intellewings_assignment\\Training_ner_model\\trainingdata.csv')\n",
    "\n",
    "# Initialize spaCy\n",
    "nlp = spacy.blank(\"en\")\n",
    "\n",
    "# Create DocBin to store examples\n",
    "db = DocBin()\n",
    "\n",
    "for index, row in df.iterrows():\n",
    "    text = row['Sentence']\n",
    "    entities = eval(row['Entities'])  # Convert string representation of list to actual list\n",
    "    doc = nlp.make_doc(text)\n",
    "    ents = []\n",
    "\n",
    "    for start, end, label in entities:\n",
    "        span = doc.char_span(start, end, label=label)\n",
    "        if span is not None:\n",
    "            ents.append(span)\n",
    "\n",
    "    doc.ents = ents\n",
    "    db.add(doc)\n",
    "\n",
    "# Save the training data\n",
    "db.to_disk(\"train.spacy\")\n"
   ]
  },
  {
   "cell_type": "code",
   "execution_count": 6,
   "metadata": {},
   "outputs": [
    {
     "name": "stdout",
     "output_type": "stream",
     "text": [
      "Epoch 0 Losses: {'ner': np.float32(434.0519)}\n",
      "Epoch 1 Losses: {'ner': np.float32(143.93134)}\n",
      "Epoch 2 Losses: {'ner': np.float32(89.87609)}\n",
      "Epoch 3 Losses: {'ner': np.float32(56.620415)}\n",
      "Epoch 4 Losses: {'ner': np.float32(33.927834)}\n",
      "Epoch 5 Losses: {'ner': np.float32(18.491497)}\n",
      "Epoch 6 Losses: {'ner': np.float32(20.732412)}\n",
      "Epoch 7 Losses: {'ner': np.float32(10.343407)}\n",
      "Epoch 8 Losses: {'ner': np.float32(9.910982)}\n",
      "Epoch 9 Losses: {'ner': np.float32(3.90321)}\n"
     ]
    }
   ],
   "source": [
    "import spacy\n",
    "from spacy.training import Example\n",
    "from spacy.util import minibatch\n",
    "\n",
    "# Load the training data\n",
    "db = DocBin().from_disk(\"train.spacy\")\n",
    "docs = list(db.get_docs(nlp.vocab))\n",
    "\n",
    "# Create an empty NER model\n",
    "ner = nlp.create_pipe(\"ner\")\n",
    "nlp.add_pipe(\"ner\")\n",
    "\n",
    "# Add the labels\n",
    "for doc in docs:\n",
    "    for ent in doc.ents:\n",
    "        ner.add_label(ent.label_)\n",
    "\n",
    "# Initialize the model\n",
    "nlp.begin_training()\n",
    "\n",
    "# Training the model\n",
    "for epoch in range(10):\n",
    "    losses = {}\n",
    "    batches = minibatch(docs, size=8)\n",
    "    for batch in batches:\n",
    "        examples = [Example.from_dict(doc, {\"entities\": [(ent.start_char, ent.end_char, ent.label_) for ent in doc.ents]}) for doc in batch]\n",
    "        nlp.update(examples, losses=losses)\n",
    "    print(f\"Epoch {epoch} Losses: {losses}\")\n",
    "\n",
    "# Save the trained model\n",
    "nlp.to_disk(\"ner_model\")\n"
   ]
  },
  {
   "cell_type": "code",
   "execution_count": 7,
   "metadata": {},
   "outputs": [],
   "source": [
    "import spacy\n",
    "\n",
    "# Load the trained NER model\n",
    "nlp = spacy.load(\"ner_model\")\n"
   ]
  },
  {
   "cell_type": "code",
   "execution_count": 8,
   "metadata": {},
   "outputs": [
    {
     "name": "stdout",
     "output_type": "stream",
     "text": [
      "Entity: Jeff Bezos, Label: PERSON\n",
      "Entity: The Washington Post., Label: ORG\n",
      "Entity: He, Label: ORG\n",
      "Entity: NASA, Label: PRODUCT\n"
     ]
    }
   ],
   "source": [
    "# Sample text to test\n",
    "sample_text = \"Jeff Bezos founded Amazon and also owns The Washington Post. He has also worked with NASA on various projects.\"\n",
    "\n",
    "# Process the text with the NER model\n",
    "doc = nlp(sample_text)\n",
    "\n",
    "# Print the entities recognized by the model\n",
    "for ent in doc.ents:\n",
    "    print(f\"Entity: {ent.text}, Label: {ent.label_}\")\n"
   ]
  },
  {
   "cell_type": "code",
   "execution_count": 9,
   "metadata": {},
   "outputs": [],
   "source": [
    "import requests\n",
    "from bs4 import BeautifulSoup\n",
    "import pandas as pd\n",
    "from datetime import datetime\n",
    "import spacy\n",
    "\n",
    "# Load the trained NER model\n",
    "nlp = spacy.load(\"ner_model\")\n"
   ]
  },
  {
   "cell_type": "code",
   "execution_count": 13,
   "metadata": {},
   "outputs": [],
   "source": [
    "def fetch_html(url):\n",
    "    \"\"\"\n",
    "    Takes a URL as input and retrieves the HTML content of the article.\n",
    "    \n",
    "    Args:\n",
    "    url (str): The URL of the news article.\n",
    "\n",
    "    Returns:\n",
    "    str: The HTML content of the article.\n",
    "    \"\"\"\n",
    "    try:\n",
    "        # Send an HTTP GET request to the URL\n",
    "        response = requests.get(url)\n",
    "\n",
    "        # Check if the request was successful\n",
    "        if response.status_code == 200:\n",
    "            # Parse the HTML content using BeautifulSoup\n",
    "            soup = BeautifulSoup(response.content, 'html.parser')\n",
    "\n",
    "            # Return the HTML content\n",
    "            return soup\n",
    "        else:\n",
    "            print(f\"Failed to retrieve the article. HTTP Status Code: {response.status_code}\")\n",
    "            return None\n",
    "    except Exception as e:\n",
    "        print(f\"An error occurred: {e}\")\n",
    "        return None\n",
    "\n",
    "\n",
    "def extract_entities(text):\n",
    "    \"\"\"\n",
    "    Extracts named entities from the given text using the NER model.\n",
    "    \n",
    "    Args:\n",
    "    text (str): The text to extract entities from.\n",
    "\n",
    "    Returns:\n",
    "    dict: A dictionary containing lists of 'PERSON' and 'ORG' entities.\n",
    "    \"\"\"\n",
    "    doc = nlp(text)\n",
    "    entities = {\"PERSON\": [], \"ORG\": []}\n",
    "    \n",
    "    for ent in doc.ents:\n",
    "        if ent.label_ in entities:\n",
    "            entities[ent.label_].append(ent.text)\n",
    "            \n",
    "    return entities\n"
   ]
  },
  {
   "cell_type": "code",
   "execution_count": 14,
   "metadata": {},
   "outputs": [
    {
     "name": "stdout",
     "output_type": "stream",
     "text": [
      "Successfully retrieved the article's HTML content.\n",
      "                                                 URL  \\\n",
      "0  https://economictimes.indiatimes.com/sme/enabl...   \n",
      "\n",
      "                                        HTML_Content  \\\n",
      "0  <!DOCTYPE html>\\n<html class=\"no-js\" lang=\"en\"...   \n",
      "\n",
      "                                    Extracted_PERSON  \\\n",
      "0  ['Benchmarks Nifty', 'Fund Direct', 'News Indu...   \n",
      "\n",
      "                                       Extracted_ORG         Date_Fetched  \n",
      "0  ['Enabling', 'Payoneer', 'FUNDS', 'Growt', 'FU...  2024-12-16 01:59:53  \n"
     ]
    }
   ],
   "source": [
    "# Example usage\n",
    "if __name__ == \"__main__\":\n",
    "    # Take a URL input\n",
    "    article_url = input(\"Enter the news article URL: \")\n",
    "    \n",
    "    # Fetch the HTML content\n",
    "    html_content = fetch_html(article_url)\n",
    "    \n",
    "    if html_content:\n",
    "        print(\"Successfully retrieved the article's HTML content.\")\n",
    "        \n",
    "        # Extract text content from HTML\n",
    "        article_text = html_content.get_text(separator=' ', strip=True)\n",
    "        \n",
    "        # Extract entities from the article text\n",
    "        entities = extract_entities(article_text)\n",
    "        \n",
    "        # Prepare the data to be saved (including the URL, HTML content, and extracted entities)\n",
    "        article_data = {\n",
    "            \"URL\": article_url,\n",
    "            \"HTML_Content\": str(html_content.prettify()),\n",
    "            \"Extracted_PERSON\": str(entities[\"PERSON\"]),\n",
    "            \"Extracted_ORG\": str(entities[\"ORG\"]),\n",
    "            \"Date_Fetched\": datetime.now().strftime(\"%Y-%m-%d %H:%M:%S\")\n",
    "        }\n",
    "\n",
    "        # Create a DataFrame\n",
    "        df = pd.DataFrame([article_data])\n",
    "        print(df)\n",
    "    else:\n",
    "        print(\"Failed to retrieve article content.\")\n"
   ]
  },
  {
   "cell_type": "code",
   "execution_count": 15,
   "metadata": {},
   "outputs": [
    {
     "data": {
      "text/html": [
       "<div>\n",
       "<style scoped>\n",
       "    .dataframe tbody tr th:only-of-type {\n",
       "        vertical-align: middle;\n",
       "    }\n",
       "\n",
       "    .dataframe tbody tr th {\n",
       "        vertical-align: top;\n",
       "    }\n",
       "\n",
       "    .dataframe thead th {\n",
       "        text-align: right;\n",
       "    }\n",
       "</style>\n",
       "<table border=\"1\" class=\"dataframe\">\n",
       "  <thead>\n",
       "    <tr style=\"text-align: right;\">\n",
       "      <th></th>\n",
       "      <th>URL</th>\n",
       "      <th>HTML_Content</th>\n",
       "      <th>Extracted_PERSON</th>\n",
       "      <th>Extracted_ORG</th>\n",
       "      <th>Date_Fetched</th>\n",
       "    </tr>\n",
       "  </thead>\n",
       "  <tbody>\n",
       "    <tr>\n",
       "      <th>0</th>\n",
       "      <td>https://economictimes.indiatimes.com/sme/enabl...</td>\n",
       "      <td>&lt;!DOCTYPE html&gt;\\n&lt;html class=\"no-js\" lang=\"en\"...</td>\n",
       "      <td>['Benchmarks Nifty', 'Fund Direct', 'News Indu...</td>\n",
       "      <td>['Enabling', 'Payoneer', 'FUNDS', 'Growt', 'FU...</td>\n",
       "      <td>2024-12-16 01:59:53</td>\n",
       "    </tr>\n",
       "  </tbody>\n",
       "</table>\n",
       "</div>"
      ],
      "text/plain": [
       "                                                 URL  \\\n",
       "0  https://economictimes.indiatimes.com/sme/enabl...   \n",
       "\n",
       "                                        HTML_Content  \\\n",
       "0  <!DOCTYPE html>\\n<html class=\"no-js\" lang=\"en\"...   \n",
       "\n",
       "                                    Extracted_PERSON  \\\n",
       "0  ['Benchmarks Nifty', 'Fund Direct', 'News Indu...   \n",
       "\n",
       "                                       Extracted_ORG         Date_Fetched  \n",
       "0  ['Enabling', 'Payoneer', 'FUNDS', 'Growt', 'FU...  2024-12-16 01:59:53  "
      ]
     },
     "execution_count": 15,
     "metadata": {},
     "output_type": "execute_result"
    }
   ],
   "source": [
    "df"
   ]
  },
  {
   "cell_type": "code",
   "execution_count": 22,
   "metadata": {},
   "outputs": [
    {
     "data": {
      "text/plain": [
       "\"0    ['Benchmarks Nifty', 'Fund Direct', 'News Indu...\""
      ]
     },
     "execution_count": 22,
     "metadata": {},
     "output_type": "execute_result"
    }
   ],
   "source": [
    "df.Extracted_PERSON.to_string()"
   ]
  },
  {
   "cell_type": "code",
   "execution_count": null,
   "metadata": {},
   "outputs": [],
   "source": []
  }
 ],
 "metadata": {
  "kernelspec": {
   "display_name": "Python 3",
   "language": "python",
   "name": "python3"
  },
  "language_info": {
   "codemirror_mode": {
    "name": "ipython",
    "version": 3
   },
   "file_extension": ".py",
   "mimetype": "text/x-python",
   "name": "python",
   "nbconvert_exporter": "python",
   "pygments_lexer": "ipython3",
   "version": "3.12.8"
  }
 },
 "nbformat": 4,
 "nbformat_minor": 2
}
